{
  "metadata": {
    "kernelspec": {
      "name": "python",
      "display_name": "Python (Pyodide)",
      "language": "python"
    },
    "language_info": {
      "codemirror_mode": {
        "name": "python",
        "version": 3
      },
      "file_extension": ".py",
      "mimetype": "text/x-python",
      "name": "python",
      "nbconvert_exporter": "python",
      "pygments_lexer": "ipython3",
      "version": "3.8"
    }
  },
  "nbformat_minor": 4,
  "nbformat": 4,
  "cells": [
    {
      "cell_type": "code",
      "source": "import pandas as pd\nimport numpy as np",
      "metadata": {
        "trusted": true
      },
      "outputs": [],
      "execution_count": 1
    },
    {
      "cell_type": "code",
      "source": "from pyodide.http import pyfetch\n\nasync def download(url, filename):\n    response = await pyfetch(url)\n    if response.status == 200:\n        with open(filename, \"wb\") as f:\n            f.write(await response.bytes())",
      "metadata": {
        "trusted": true
      },
      "outputs": [],
      "execution_count": 2
    },
    {
      "cell_type": "code",
      "source": "file_path='https://cf-courses-data.s3.us.cloud-object-storage.appdomain.cloud/IBMDeveloperSkillsNetwork-DA0101EN-SkillsNetwork/labs/Data%20files/auto.csv'",
      "metadata": {
        "trusted": true
      },
      "outputs": [],
      "execution_count": 3
    },
    {
      "cell_type": "code",
      "source": "await download(file_path, \"auto.csv\")\nfile_name=\"auto.csv\"",
      "metadata": {
        "trusted": true
      },
      "outputs": [],
      "execution_count": 4
    },
    {
      "cell_type": "code",
      "source": "df = pd.read_csv(file_name)",
      "metadata": {
        "trusted": true
      },
      "outputs": [],
      "execution_count": 5
    },
    {
      "cell_type": "code",
      "source": "print(\"The first 5 rows of the dataframe\") \ndf.head(5)",
      "metadata": {
        "trusted": true
      },
      "outputs": [
        {
          "name": "stdout",
          "text": "The first 5 rows of the dataframe\n",
          "output_type": "stream"
        },
        {
          "execution_count": 7,
          "output_type": "execute_result",
          "data": {
            "text/plain": "   3    ?  alfa-romero  gas  std   two  convertible  rwd  front  88.6  ...  \\\n0  3    ?  alfa-romero  gas  std   two  convertible  rwd  front  88.6  ...   \n1  1    ?  alfa-romero  gas  std   two    hatchback  rwd  front  94.5  ...   \n2  2  164         audi  gas  std  four        sedan  fwd  front  99.8  ...   \n3  2  164         audi  gas  std  four        sedan  4wd  front  99.4  ...   \n4  2    ?         audi  gas  std   two        sedan  fwd  front  99.8  ...   \n\n   130  mpfi  3.47  2.68   9.0  111  5000  21  27  13495  \n0  130  mpfi  3.47  2.68   9.0  111  5000  21  27  16500  \n1  152  mpfi  2.68  3.47   9.0  154  5000  19  26  16500  \n2  109  mpfi  3.19  3.40  10.0  102  5500  24  30  13950  \n3  136  mpfi  3.19  3.40   8.0  115  5500  18  22  17450  \n4  136  mpfi  3.19  3.40   8.5  110  5500  19  25  15250  \n\n[5 rows x 26 columns]",
            "text/html": "<div>\n<style scoped>\n    .dataframe tbody tr th:only-of-type {\n        vertical-align: middle;\n    }\n\n    .dataframe tbody tr th {\n        vertical-align: top;\n    }\n\n    .dataframe thead th {\n        text-align: right;\n    }\n</style>\n<table border=\"1\" class=\"dataframe\">\n  <thead>\n    <tr style=\"text-align: right;\">\n      <th></th>\n      <th>3</th>\n      <th>?</th>\n      <th>alfa-romero</th>\n      <th>gas</th>\n      <th>std</th>\n      <th>two</th>\n      <th>convertible</th>\n      <th>rwd</th>\n      <th>front</th>\n      <th>88.6</th>\n      <th>...</th>\n      <th>130</th>\n      <th>mpfi</th>\n      <th>3.47</th>\n      <th>2.68</th>\n      <th>9.0</th>\n      <th>111</th>\n      <th>5000</th>\n      <th>21</th>\n      <th>27</th>\n      <th>13495</th>\n    </tr>\n  </thead>\n  <tbody>\n    <tr>\n      <th>0</th>\n      <td>3</td>\n      <td>?</td>\n      <td>alfa-romero</td>\n      <td>gas</td>\n      <td>std</td>\n      <td>two</td>\n      <td>convertible</td>\n      <td>rwd</td>\n      <td>front</td>\n      <td>88.6</td>\n      <td>...</td>\n      <td>130</td>\n      <td>mpfi</td>\n      <td>3.47</td>\n      <td>2.68</td>\n      <td>9.0</td>\n      <td>111</td>\n      <td>5000</td>\n      <td>21</td>\n      <td>27</td>\n      <td>16500</td>\n    </tr>\n    <tr>\n      <th>1</th>\n      <td>1</td>\n      <td>?</td>\n      <td>alfa-romero</td>\n      <td>gas</td>\n      <td>std</td>\n      <td>two</td>\n      <td>hatchback</td>\n      <td>rwd</td>\n      <td>front</td>\n      <td>94.5</td>\n      <td>...</td>\n      <td>152</td>\n      <td>mpfi</td>\n      <td>2.68</td>\n      <td>3.47</td>\n      <td>9.0</td>\n      <td>154</td>\n      <td>5000</td>\n      <td>19</td>\n      <td>26</td>\n      <td>16500</td>\n    </tr>\n    <tr>\n      <th>2</th>\n      <td>2</td>\n      <td>164</td>\n      <td>audi</td>\n      <td>gas</td>\n      <td>std</td>\n      <td>four</td>\n      <td>sedan</td>\n      <td>fwd</td>\n      <td>front</td>\n      <td>99.8</td>\n      <td>...</td>\n      <td>109</td>\n      <td>mpfi</td>\n      <td>3.19</td>\n      <td>3.40</td>\n      <td>10.0</td>\n      <td>102</td>\n      <td>5500</td>\n      <td>24</td>\n      <td>30</td>\n      <td>13950</td>\n    </tr>\n    <tr>\n      <th>3</th>\n      <td>2</td>\n      <td>164</td>\n      <td>audi</td>\n      <td>gas</td>\n      <td>std</td>\n      <td>four</td>\n      <td>sedan</td>\n      <td>4wd</td>\n      <td>front</td>\n      <td>99.4</td>\n      <td>...</td>\n      <td>136</td>\n      <td>mpfi</td>\n      <td>3.19</td>\n      <td>3.40</td>\n      <td>8.0</td>\n      <td>115</td>\n      <td>5500</td>\n      <td>18</td>\n      <td>22</td>\n      <td>17450</td>\n    </tr>\n    <tr>\n      <th>4</th>\n      <td>2</td>\n      <td>?</td>\n      <td>audi</td>\n      <td>gas</td>\n      <td>std</td>\n      <td>two</td>\n      <td>sedan</td>\n      <td>fwd</td>\n      <td>front</td>\n      <td>99.8</td>\n      <td>...</td>\n      <td>136</td>\n      <td>mpfi</td>\n      <td>3.19</td>\n      <td>3.40</td>\n      <td>8.5</td>\n      <td>110</td>\n      <td>5500</td>\n      <td>19</td>\n      <td>25</td>\n      <td>15250</td>\n    </tr>\n  </tbody>\n</table>\n<p>5 rows × 26 columns</p>\n</div>"
          },
          "metadata": {}
        }
      ],
      "execution_count": 7
    },
    {
      "cell_type": "code",
      "source": "# create headers list\nheaders = [\"symboling\",\"normalized-losses\",\"make\",\"fuel-type\",\"aspiration\", \"num-of-doors\",\"body-style\",\n         \"drive-wheels\",\"engine-location\",\"wheel-base\", \"length\",\"width\",\"height\",\"curb-weight\",\"engine-type\",\n         \"num-of-cylinders\", \"engine-size\",\"fuel-system\",\"bore\",\"stroke\",\"compression-ratio\",\"horsepower\",\n         \"peak-rpm\",\"city-mpg\",\"highway-mpg\",\"price\"]\nprint(\"headers\\n\", headers)",
      "metadata": {
        "trusted": true
      },
      "outputs": [
        {
          "name": "stdout",
          "text": "headers\n ['symboling', 'normalized-losses', 'make', 'fuel-type', 'aspiration', 'num-of-doors', 'body-style', 'drive-wheels', 'engine-location', 'wheel-base', 'length', 'width', 'height', 'curb-weight', 'engine-type', 'num-of-cylinders', 'engine-size', 'fuel-system', 'bore', 'stroke', 'compression-ratio', 'horsepower', 'peak-rpm', 'city-mpg', 'highway-mpg', 'price']\n",
          "output_type": "stream"
        }
      ],
      "execution_count": 8
    },
    {
      "cell_type": "code",
      "source": "#Replace headers and recheck our data frame:\ndf.columns = headers\ndf.columns",
      "metadata": {
        "trusted": true
      },
      "outputs": [
        {
          "execution_count": 10,
          "output_type": "execute_result",
          "data": {
            "text/plain": "Index(['symboling', 'normalized-losses', 'make', 'fuel-type', 'aspiration',\n       'num-of-doors', 'body-style', 'drive-wheels', 'engine-location',\n       'wheel-base', 'length', 'width', 'height', 'curb-weight', 'engine-type',\n       'num-of-cylinders', 'engine-size', 'fuel-system', 'bore', 'stroke',\n       'compression-ratio', 'horsepower', 'peak-rpm', 'city-mpg',\n       'highway-mpg', 'price'],\n      dtype='object')"
          },
          "metadata": {}
        }
      ],
      "execution_count": 10
    },
    {
      "cell_type": "code",
      "source": "#we need to replace the \"?\" symbol with NaN so the dropna() can remove the missing values:\ndf1=df.replace('?',np.NaN)",
      "metadata": {
        "trusted": true
      },
      "outputs": [],
      "execution_count": 11
    },
    {
      "cell_type": "code",
      "source": "#You can drop missing values along the column \"price\" as follows:\ndf=df1.dropna(subset=[\"price\"], axis=0)\ndf.head(20)",
      "metadata": {
        "trusted": true
      },
      "outputs": [
        {
          "execution_count": 12,
          "output_type": "execute_result",
          "data": {
            "text/plain": "    symboling normalized-losses         make fuel-type aspiration  \\\n0           3               NaN  alfa-romero       gas        std   \n1           1               NaN  alfa-romero       gas        std   \n2           2               164         audi       gas        std   \n3           2               164         audi       gas        std   \n4           2               NaN         audi       gas        std   \n5           1               158         audi       gas        std   \n6           1               NaN         audi       gas        std   \n7           1               158         audi       gas      turbo   \n9           2               192          bmw       gas        std   \n10          0               192          bmw       gas        std   \n11          0               188          bmw       gas        std   \n12          0               188          bmw       gas        std   \n13          1               NaN          bmw       gas        std   \n14          0               NaN          bmw       gas        std   \n15          0               NaN          bmw       gas        std   \n16          0               NaN          bmw       gas        std   \n17          2               121    chevrolet       gas        std   \n18          1                98    chevrolet       gas        std   \n19          0                81    chevrolet       gas        std   \n20          1               118        dodge       gas        std   \n\n   num-of-doors   body-style drive-wheels engine-location  wheel-base  ...  \\\n0           two  convertible          rwd           front        88.6  ...   \n1           two    hatchback          rwd           front        94.5  ...   \n2          four        sedan          fwd           front        99.8  ...   \n3          four        sedan          4wd           front        99.4  ...   \n4           two        sedan          fwd           front        99.8  ...   \n5          four        sedan          fwd           front       105.8  ...   \n6          four        wagon          fwd           front       105.8  ...   \n7          four        sedan          fwd           front       105.8  ...   \n9           two        sedan          rwd           front       101.2  ...   \n10         four        sedan          rwd           front       101.2  ...   \n11          two        sedan          rwd           front       101.2  ...   \n12         four        sedan          rwd           front       101.2  ...   \n13         four        sedan          rwd           front       103.5  ...   \n14         four        sedan          rwd           front       103.5  ...   \n15          two        sedan          rwd           front       103.5  ...   \n16         four        sedan          rwd           front       110.0  ...   \n17          two    hatchback          fwd           front        88.4  ...   \n18          two    hatchback          fwd           front        94.5  ...   \n19         four        sedan          fwd           front        94.5  ...   \n20          two    hatchback          fwd           front        93.7  ...   \n\n    engine-size  fuel-system  bore  stroke compression-ratio horsepower  \\\n0           130         mpfi  3.47    2.68              9.00        111   \n1           152         mpfi  2.68    3.47              9.00        154   \n2           109         mpfi  3.19    3.40             10.00        102   \n3           136         mpfi  3.19    3.40              8.00        115   \n4           136         mpfi  3.19    3.40              8.50        110   \n5           136         mpfi  3.19    3.40              8.50        110   \n6           136         mpfi  3.19    3.40              8.50        110   \n7           131         mpfi  3.13    3.40              8.30        140   \n9           108         mpfi  3.50    2.80              8.80        101   \n10          108         mpfi  3.50    2.80              8.80        101   \n11          164         mpfi  3.31    3.19              9.00        121   \n12          164         mpfi  3.31    3.19              9.00        121   \n13          164         mpfi  3.31    3.19              9.00        121   \n14          209         mpfi  3.62    3.39              8.00        182   \n15          209         mpfi  3.62    3.39              8.00        182   \n16          209         mpfi  3.62    3.39              8.00        182   \n17           61         2bbl  2.91    3.03              9.50         48   \n18           90         2bbl  3.03    3.11              9.60         70   \n19           90         2bbl  3.03    3.11              9.60         70   \n20           90         2bbl  2.97    3.23              9.41         68   \n\n    peak-rpm city-mpg highway-mpg  price  \n0       5000       21          27  16500  \n1       5000       19          26  16500  \n2       5500       24          30  13950  \n3       5500       18          22  17450  \n4       5500       19          25  15250  \n5       5500       19          25  17710  \n6       5500       19          25  18920  \n7       5500       17          20  23875  \n9       5800       23          29  16430  \n10      5800       23          29  16925  \n11      4250       21          28  20970  \n12      4250       21          28  21105  \n13      4250       20          25  24565  \n14      5400       16          22  30760  \n15      5400       16          22  41315  \n16      5400       15          20  36880  \n17      5100       47          53   5151  \n18      5400       38          43   6295  \n19      5400       38          43   6575  \n20      5500       37          41   5572  \n\n[20 rows x 26 columns]",
            "text/html": "<div>\n<style scoped>\n    .dataframe tbody tr th:only-of-type {\n        vertical-align: middle;\n    }\n\n    .dataframe tbody tr th {\n        vertical-align: top;\n    }\n\n    .dataframe thead th {\n        text-align: right;\n    }\n</style>\n<table border=\"1\" class=\"dataframe\">\n  <thead>\n    <tr style=\"text-align: right;\">\n      <th></th>\n      <th>symboling</th>\n      <th>normalized-losses</th>\n      <th>make</th>\n      <th>fuel-type</th>\n      <th>aspiration</th>\n      <th>num-of-doors</th>\n      <th>body-style</th>\n      <th>drive-wheels</th>\n      <th>engine-location</th>\n      <th>wheel-base</th>\n      <th>...</th>\n      <th>engine-size</th>\n      <th>fuel-system</th>\n      <th>bore</th>\n      <th>stroke</th>\n      <th>compression-ratio</th>\n      <th>horsepower</th>\n      <th>peak-rpm</th>\n      <th>city-mpg</th>\n      <th>highway-mpg</th>\n      <th>price</th>\n    </tr>\n  </thead>\n  <tbody>\n    <tr>\n      <th>0</th>\n      <td>3</td>\n      <td>NaN</td>\n      <td>alfa-romero</td>\n      <td>gas</td>\n      <td>std</td>\n      <td>two</td>\n      <td>convertible</td>\n      <td>rwd</td>\n      <td>front</td>\n      <td>88.6</td>\n      <td>...</td>\n      <td>130</td>\n      <td>mpfi</td>\n      <td>3.47</td>\n      <td>2.68</td>\n      <td>9.00</td>\n      <td>111</td>\n      <td>5000</td>\n      <td>21</td>\n      <td>27</td>\n      <td>16500</td>\n    </tr>\n    <tr>\n      <th>1</th>\n      <td>1</td>\n      <td>NaN</td>\n      <td>alfa-romero</td>\n      <td>gas</td>\n      <td>std</td>\n      <td>two</td>\n      <td>hatchback</td>\n      <td>rwd</td>\n      <td>front</td>\n      <td>94.5</td>\n      <td>...</td>\n      <td>152</td>\n      <td>mpfi</td>\n      <td>2.68</td>\n      <td>3.47</td>\n      <td>9.00</td>\n      <td>154</td>\n      <td>5000</td>\n      <td>19</td>\n      <td>26</td>\n      <td>16500</td>\n    </tr>\n    <tr>\n      <th>2</th>\n      <td>2</td>\n      <td>164</td>\n      <td>audi</td>\n      <td>gas</td>\n      <td>std</td>\n      <td>four</td>\n      <td>sedan</td>\n      <td>fwd</td>\n      <td>front</td>\n      <td>99.8</td>\n      <td>...</td>\n      <td>109</td>\n      <td>mpfi</td>\n      <td>3.19</td>\n      <td>3.40</td>\n      <td>10.00</td>\n      <td>102</td>\n      <td>5500</td>\n      <td>24</td>\n      <td>30</td>\n      <td>13950</td>\n    </tr>\n    <tr>\n      <th>3</th>\n      <td>2</td>\n      <td>164</td>\n      <td>audi</td>\n      <td>gas</td>\n      <td>std</td>\n      <td>four</td>\n      <td>sedan</td>\n      <td>4wd</td>\n      <td>front</td>\n      <td>99.4</td>\n      <td>...</td>\n      <td>136</td>\n      <td>mpfi</td>\n      <td>3.19</td>\n      <td>3.40</td>\n      <td>8.00</td>\n      <td>115</td>\n      <td>5500</td>\n      <td>18</td>\n      <td>22</td>\n      <td>17450</td>\n    </tr>\n    <tr>\n      <th>4</th>\n      <td>2</td>\n      <td>NaN</td>\n      <td>audi</td>\n      <td>gas</td>\n      <td>std</td>\n      <td>two</td>\n      <td>sedan</td>\n      <td>fwd</td>\n      <td>front</td>\n      <td>99.8</td>\n      <td>...</td>\n      <td>136</td>\n      <td>mpfi</td>\n      <td>3.19</td>\n      <td>3.40</td>\n      <td>8.50</td>\n      <td>110</td>\n      <td>5500</td>\n      <td>19</td>\n      <td>25</td>\n      <td>15250</td>\n    </tr>\n    <tr>\n      <th>5</th>\n      <td>1</td>\n      <td>158</td>\n      <td>audi</td>\n      <td>gas</td>\n      <td>std</td>\n      <td>four</td>\n      <td>sedan</td>\n      <td>fwd</td>\n      <td>front</td>\n      <td>105.8</td>\n      <td>...</td>\n      <td>136</td>\n      <td>mpfi</td>\n      <td>3.19</td>\n      <td>3.40</td>\n      <td>8.50</td>\n      <td>110</td>\n      <td>5500</td>\n      <td>19</td>\n      <td>25</td>\n      <td>17710</td>\n    </tr>\n    <tr>\n      <th>6</th>\n      <td>1</td>\n      <td>NaN</td>\n      <td>audi</td>\n      <td>gas</td>\n      <td>std</td>\n      <td>four</td>\n      <td>wagon</td>\n      <td>fwd</td>\n      <td>front</td>\n      <td>105.8</td>\n      <td>...</td>\n      <td>136</td>\n      <td>mpfi</td>\n      <td>3.19</td>\n      <td>3.40</td>\n      <td>8.50</td>\n      <td>110</td>\n      <td>5500</td>\n      <td>19</td>\n      <td>25</td>\n      <td>18920</td>\n    </tr>\n    <tr>\n      <th>7</th>\n      <td>1</td>\n      <td>158</td>\n      <td>audi</td>\n      <td>gas</td>\n      <td>turbo</td>\n      <td>four</td>\n      <td>sedan</td>\n      <td>fwd</td>\n      <td>front</td>\n      <td>105.8</td>\n      <td>...</td>\n      <td>131</td>\n      <td>mpfi</td>\n      <td>3.13</td>\n      <td>3.40</td>\n      <td>8.30</td>\n      <td>140</td>\n      <td>5500</td>\n      <td>17</td>\n      <td>20</td>\n      <td>23875</td>\n    </tr>\n    <tr>\n      <th>9</th>\n      <td>2</td>\n      <td>192</td>\n      <td>bmw</td>\n      <td>gas</td>\n      <td>std</td>\n      <td>two</td>\n      <td>sedan</td>\n      <td>rwd</td>\n      <td>front</td>\n      <td>101.2</td>\n      <td>...</td>\n      <td>108</td>\n      <td>mpfi</td>\n      <td>3.50</td>\n      <td>2.80</td>\n      <td>8.80</td>\n      <td>101</td>\n      <td>5800</td>\n      <td>23</td>\n      <td>29</td>\n      <td>16430</td>\n    </tr>\n    <tr>\n      <th>10</th>\n      <td>0</td>\n      <td>192</td>\n      <td>bmw</td>\n      <td>gas</td>\n      <td>std</td>\n      <td>four</td>\n      <td>sedan</td>\n      <td>rwd</td>\n      <td>front</td>\n      <td>101.2</td>\n      <td>...</td>\n      <td>108</td>\n      <td>mpfi</td>\n      <td>3.50</td>\n      <td>2.80</td>\n      <td>8.80</td>\n      <td>101</td>\n      <td>5800</td>\n      <td>23</td>\n      <td>29</td>\n      <td>16925</td>\n    </tr>\n    <tr>\n      <th>11</th>\n      <td>0</td>\n      <td>188</td>\n      <td>bmw</td>\n      <td>gas</td>\n      <td>std</td>\n      <td>two</td>\n      <td>sedan</td>\n      <td>rwd</td>\n      <td>front</td>\n      <td>101.2</td>\n      <td>...</td>\n      <td>164</td>\n      <td>mpfi</td>\n      <td>3.31</td>\n      <td>3.19</td>\n      <td>9.00</td>\n      <td>121</td>\n      <td>4250</td>\n      <td>21</td>\n      <td>28</td>\n      <td>20970</td>\n    </tr>\n    <tr>\n      <th>12</th>\n      <td>0</td>\n      <td>188</td>\n      <td>bmw</td>\n      <td>gas</td>\n      <td>std</td>\n      <td>four</td>\n      <td>sedan</td>\n      <td>rwd</td>\n      <td>front</td>\n      <td>101.2</td>\n      <td>...</td>\n      <td>164</td>\n      <td>mpfi</td>\n      <td>3.31</td>\n      <td>3.19</td>\n      <td>9.00</td>\n      <td>121</td>\n      <td>4250</td>\n      <td>21</td>\n      <td>28</td>\n      <td>21105</td>\n    </tr>\n    <tr>\n      <th>13</th>\n      <td>1</td>\n      <td>NaN</td>\n      <td>bmw</td>\n      <td>gas</td>\n      <td>std</td>\n      <td>four</td>\n      <td>sedan</td>\n      <td>rwd</td>\n      <td>front</td>\n      <td>103.5</td>\n      <td>...</td>\n      <td>164</td>\n      <td>mpfi</td>\n      <td>3.31</td>\n      <td>3.19</td>\n      <td>9.00</td>\n      <td>121</td>\n      <td>4250</td>\n      <td>20</td>\n      <td>25</td>\n      <td>24565</td>\n    </tr>\n    <tr>\n      <th>14</th>\n      <td>0</td>\n      <td>NaN</td>\n      <td>bmw</td>\n      <td>gas</td>\n      <td>std</td>\n      <td>four</td>\n      <td>sedan</td>\n      <td>rwd</td>\n      <td>front</td>\n      <td>103.5</td>\n      <td>...</td>\n      <td>209</td>\n      <td>mpfi</td>\n      <td>3.62</td>\n      <td>3.39</td>\n      <td>8.00</td>\n      <td>182</td>\n      <td>5400</td>\n      <td>16</td>\n      <td>22</td>\n      <td>30760</td>\n    </tr>\n    <tr>\n      <th>15</th>\n      <td>0</td>\n      <td>NaN</td>\n      <td>bmw</td>\n      <td>gas</td>\n      <td>std</td>\n      <td>two</td>\n      <td>sedan</td>\n      <td>rwd</td>\n      <td>front</td>\n      <td>103.5</td>\n      <td>...</td>\n      <td>209</td>\n      <td>mpfi</td>\n      <td>3.62</td>\n      <td>3.39</td>\n      <td>8.00</td>\n      <td>182</td>\n      <td>5400</td>\n      <td>16</td>\n      <td>22</td>\n      <td>41315</td>\n    </tr>\n    <tr>\n      <th>16</th>\n      <td>0</td>\n      <td>NaN</td>\n      <td>bmw</td>\n      <td>gas</td>\n      <td>std</td>\n      <td>four</td>\n      <td>sedan</td>\n      <td>rwd</td>\n      <td>front</td>\n      <td>110.0</td>\n      <td>...</td>\n      <td>209</td>\n      <td>mpfi</td>\n      <td>3.62</td>\n      <td>3.39</td>\n      <td>8.00</td>\n      <td>182</td>\n      <td>5400</td>\n      <td>15</td>\n      <td>20</td>\n      <td>36880</td>\n    </tr>\n    <tr>\n      <th>17</th>\n      <td>2</td>\n      <td>121</td>\n      <td>chevrolet</td>\n      <td>gas</td>\n      <td>std</td>\n      <td>two</td>\n      <td>hatchback</td>\n      <td>fwd</td>\n      <td>front</td>\n      <td>88.4</td>\n      <td>...</td>\n      <td>61</td>\n      <td>2bbl</td>\n      <td>2.91</td>\n      <td>3.03</td>\n      <td>9.50</td>\n      <td>48</td>\n      <td>5100</td>\n      <td>47</td>\n      <td>53</td>\n      <td>5151</td>\n    </tr>\n    <tr>\n      <th>18</th>\n      <td>1</td>\n      <td>98</td>\n      <td>chevrolet</td>\n      <td>gas</td>\n      <td>std</td>\n      <td>two</td>\n      <td>hatchback</td>\n      <td>fwd</td>\n      <td>front</td>\n      <td>94.5</td>\n      <td>...</td>\n      <td>90</td>\n      <td>2bbl</td>\n      <td>3.03</td>\n      <td>3.11</td>\n      <td>9.60</td>\n      <td>70</td>\n      <td>5400</td>\n      <td>38</td>\n      <td>43</td>\n      <td>6295</td>\n    </tr>\n    <tr>\n      <th>19</th>\n      <td>0</td>\n      <td>81</td>\n      <td>chevrolet</td>\n      <td>gas</td>\n      <td>std</td>\n      <td>four</td>\n      <td>sedan</td>\n      <td>fwd</td>\n      <td>front</td>\n      <td>94.5</td>\n      <td>...</td>\n      <td>90</td>\n      <td>2bbl</td>\n      <td>3.03</td>\n      <td>3.11</td>\n      <td>9.60</td>\n      <td>70</td>\n      <td>5400</td>\n      <td>38</td>\n      <td>43</td>\n      <td>6575</td>\n    </tr>\n    <tr>\n      <th>20</th>\n      <td>1</td>\n      <td>118</td>\n      <td>dodge</td>\n      <td>gas</td>\n      <td>std</td>\n      <td>two</td>\n      <td>hatchback</td>\n      <td>fwd</td>\n      <td>front</td>\n      <td>93.7</td>\n      <td>...</td>\n      <td>90</td>\n      <td>2bbl</td>\n      <td>2.97</td>\n      <td>3.23</td>\n      <td>9.41</td>\n      <td>68</td>\n      <td>5500</td>\n      <td>37</td>\n      <td>41</td>\n      <td>5572</td>\n    </tr>\n  </tbody>\n</table>\n<p>20 rows × 26 columns</p>\n</div>"
          },
          "metadata": {}
        }
      ],
      "execution_count": 12
    },
    {
      "cell_type": "code",
      "source": "#Find the name of the columns of the dataframe.\nprint(df.columns)",
      "metadata": {
        "trusted": true
      },
      "outputs": [
        {
          "name": "stdout",
          "text": "Index(['symboling', 'normalized-losses', 'make', 'fuel-type', 'aspiration',\n       'num-of-doors', 'body-style', 'drive-wheels', 'engine-location',\n       'wheel-base', 'length', 'width', 'height', 'curb-weight', 'engine-type',\n       'num-of-cylinders', 'engine-size', 'fuel-system', 'bore', 'stroke',\n       'compression-ratio', 'horsepower', 'peak-rpm', 'city-mpg',\n       'highway-mpg', 'price'],\n      dtype='object')\n",
          "output_type": "stream"
        }
      ],
      "execution_count": 13
    },
    {
      "cell_type": "code",
      "source": "#Save Dataset\ndf.to_csv(\"automobile.csv\", index=False)",
      "metadata": {
        "trusted": true
      },
      "outputs": [],
      "execution_count": 14
    },
    {
      "cell_type": "code",
      "source": "",
      "metadata": {
        "trusted": true
      },
      "outputs": [],
      "execution_count": null
    }
  ]
}